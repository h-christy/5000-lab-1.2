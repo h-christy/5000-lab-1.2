{
  "cells": [
    {
      "cell_type": "raw",
      "metadata": {},
      "source": [
        "---\n",
        "title: \"simple presentation\"\n",
        "format: revealjs\n",
        "bibliography: \n",
        "    - /Users/toyuan/5000-lab-1.2/simple_quarto_website/reference.bib\n",
        "---"
      ]
    },
    {
      "cell_type": "markdown",
      "metadata": {},
      "source": [
        "## MME: relationship of Violence and the Development of Community\n",
        "\n",
        "- Colonialism and Imperialism\n",
        "- Revolutions\n",
        "- Wars\n",
        "- Terrorism\n",
        "\n",
        "\n",
        "## Colonialism and Imperialism\n",
        "\n",
        "- Westernization, Modernization\n",
        "- Colonial rule and Imperial rule\n",
        "- Post WW1 protectorate and mandate\n",
        "![civilization](images/east-west.png){width=310}\n",
        "\n",
        "\n",
        "## Revolutions\n",
        "\n",
        "- Rebellion / Independence Movement\n",
        "Questions ^[@naimark2003yugoslavia]\n",
        "\n",
        "\n",
        "## Wars\n",
        "\n",
        ":::: {.columns}\n",
        "\n",
        "::: {.column width=\"33%\"}\n",
        "Civil\n",
        ":::\n",
        "\n",
        "::: {.column width=\"33%\"}\n",
        "Regional\n",
        ":::\n",
        "\n",
        "::: {.column width=\"34%\"}\n",
        "World\n",
        ":::\n",
        "\n",
        "::::"
      ]
    },
    {
      "cell_type": "code",
      "metadata": {},
      "source": [
        "#| echo: true\n",
        "#| code-fold: true\n",
        "import numpy as np\n",
        "import matplotlib.pyplot as plt\n",
        "x = np.array([13, 29, 24, 34])\n",
        "l = ['military', 'political', 'cultural', 'educational']\n",
        "plt.pie(x, labels= l)\n",
        "plt.show() "
      ],
      "execution_count": null,
      "outputs": []
    },
    {
      "cell_type": "markdown",
      "metadata": {},
      "source": [
        "## Terrorism\n",
        "\n",
        "- Definition of Violence[@naimark2003yugoslavia]\n",
        "\n",
        "![conflicted](images/conflicted.png){width=310}\n"
      ]
    }
  ],
  "metadata": {
    "kernelspec": {
      "name": "python3",
      "language": "python",
      "display_name": "Python 3 (ipykernel)",
      "path": "/opt/anaconda3/share/jupyter/kernels/python3"
    }
  },
  "nbformat": 4,
  "nbformat_minor": 4
}